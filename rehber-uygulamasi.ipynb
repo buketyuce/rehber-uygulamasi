{
 "cells": [
  {
   "cell_type": "code",
   "execution_count": 1,
   "id": "3b6683ee-6632-42e2-a2e7-ff338e31fbe0",
   "metadata": {},
   "outputs": [],
   "source": [
    "#Telefon Rehberi Uygulaması "
   ]
  },
  {
   "cell_type": "code",
   "execution_count": 2,
   "id": "e35b9ccb-b513-4353-a495-fbe86897d0c7",
   "metadata": {},
   "outputs": [],
   "source": [
    "rehber = {} #verilerin tutulması için boş bir sözlük"
   ]
  },
  {
   "cell_type": "code",
   "execution_count": 3,
   "id": "cd478a57-a1ed-4ce8-bc42-cf6fca93e44e",
   "metadata": {},
   "outputs": [],
   "source": [
    "#kişi eklemeyi sağlayan bir fonksiyon tanımladım."
   ]
  },
  {
   "cell_type": "code",
   "execution_count": 4,
   "id": "fd45feb2-15bf-4707-9794-8c872bceeb17",
   "metadata": {},
   "outputs": [],
   "source": [
    "def kisi_ekle(rehber):                        \n",
    "    Ad_Soyad = input(\"Ad-Soyad: \")            \n",
    "    Numara = input(\"Numara: \")\n",
    "    if Ad_Soyad in rehber:\n",
    "        print(\"KİŞİ REHBERDE VAR. EKLENEMEZ!\")\n",
    "    else:\n",
    "        rehber[Ad_Soyad] = Numara"
   ]
  },
  {
   "cell_type": "code",
   "execution_count": 5,
   "id": "d58cb7aa-7186-4e1b-9bdd-ed2e268977b3",
   "metadata": {},
   "outputs": [],
   "source": [
    "#rehberdeki bir kişiyi silmeyi sağlayan bir fonksiyon tanımladım."
   ]
  },
  {
   "cell_type": "code",
   "execution_count": 6,
   "id": "5a968c01-4b1d-4386-ac75-3e002ce6e9ae",
   "metadata": {},
   "outputs": [],
   "source": [
    "def kisi_sil(rehber):\n",
    "    Ad_Soyad = input(\"Rehberden Silinecek Ad-Soyad:\")\n",
    "    if Ad_Soyad in rehber:\n",
    "        del rehber[Ad_Soyad]\n",
    "        print(\"Başarı İle Silindi\")\n",
    "    else:\n",
    "        print(Ad_Soyad, \"BULUNAMADI\")"
   ]
  },
  {
   "cell_type": "code",
   "execution_count": 7,
   "id": "58628837-2c97-4aed-bc61-a71c68aa9ca1",
   "metadata": {},
   "outputs": [],
   "source": [
    "#rehberdeki bir kişinin numarasını güncellemeyi sağlayan bir fonksiyon tanımladım."
   ]
  },
  {
   "cell_type": "code",
   "execution_count": 8,
   "id": "440867bc-916f-47b4-9ee0-5426b192290b",
   "metadata": {},
   "outputs": [],
   "source": [
    "def guncelle(rehber):\n",
    "    Ad_Soyad = input(\"Düzenlenecek Ad-Soyad: \")\n",
    "    yeni_numara = input(\"Yeni Numara: \")\n",
    "    rehber[Ad_Soyad] = yeni_numara"
   ]
  },
  {
   "cell_type": "code",
   "execution_count": 9,
   "id": "5be9bc73-ab6b-48d1-bb1e-2674a457e796",
   "metadata": {},
   "outputs": [],
   "source": [
    "#rehberi görüntülemeyi sağlayan bir fonksiyon tanımladım."
   ]
  },
  {
   "cell_type": "code",
   "execution_count": 10,
   "id": "9149d4d3-afbe-4f66-8f5b-b10573f8d64a",
   "metadata": {},
   "outputs": [],
   "source": [
    "def listele(rehber):\n",
    "    print(rehber)"
   ]
  },
  {
   "cell_type": "code",
   "execution_count": 11,
   "id": "f3cc088f-b3fe-473c-b6dc-bc840575f145",
   "metadata": {},
   "outputs": [],
   "source": [
    "#tanımladığımız tüm fonksiyonları while true döngüsüne sokarak uygulamayı tamamladım."
   ]
  },
  {
   "cell_type": "code",
   "execution_count": null,
   "id": "aab26abd-4748-48af-a3a6-c5235bb58106",
   "metadata": {},
   "outputs": [
    {
     "name": "stdin",
     "output_type": "stream",
     "text": [
      "\"\n",
      "    1.Rehbere Kişi Ekle\n",
      "    2.Rehberden Kişi Silme\n",
      "    3.İsim & Numara Güncelleme\n",
      "    4.Rehberi Görüntüle\n",
      "     1\n",
      "Ad-Soyad:  BUKET Y\n",
      "Numara:  555444888\n"
     ]
    }
   ],
   "source": [
    "while True:\n",
    "    a= int(input(\"\"\"\"\n",
    "    1.Rehbere Kişi Ekle\n",
    "    2.Rehberden Kişi Silme\n",
    "    3.İsim & Numara Güncelleme\n",
    "    4.Rehberi Görüntüle\n",
    "    \"\"\"))\n",
    "    if a==1:\n",
    "        kisi_ekle(rehber)\n",
    "    elif a==2:\n",
    "        kisi_sil(rehber)\n",
    "    elif a==3:\n",
    "        guncelle(rehber)\n",
    "    elif a==4:\n",
    "        listele(rehber)\n",
    "    else:\n",
    "        break"
   ]
  },
  {
   "cell_type": "code",
   "execution_count": null,
   "id": "1761a575-7796-4345-b837-7fb9a67f7f13",
   "metadata": {},
   "outputs": [],
   "source": []
  },
  {
   "cell_type": "code",
   "execution_count": null,
   "id": "41edc144-9f2c-4eea-83b8-56ef709344fc",
   "metadata": {},
   "outputs": [],
   "source": []
  }
 ],
 "metadata": {
  "kernelspec": {
   "display_name": "Python 3",
   "language": "python",
   "name": "python3"
  },
  "language_info": {
   "codemirror_mode": {
    "name": "ipython",
    "version": 3
   },
   "file_extension": ".py",
   "mimetype": "text/x-python",
   "name": "python",
   "nbconvert_exporter": "python",
   "pygments_lexer": "ipython3",
   "version": "3.8.8"
  }
 },
 "nbformat": 4,
 "nbformat_minor": 5
}
